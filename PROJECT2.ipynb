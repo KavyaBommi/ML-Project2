{
 "cells": [
  {
   "cell_type": "markdown",
   "id": "b10ba31b-9ade-436f-8e1e-92617c3b75a0",
   "metadata": {},
   "source": [
    "# FAKE NEWS DETECTION"
   ]
  },
  {
   "cell_type": "markdown",
   "id": "5f21895f-a97c-4503-a386-b2149c3603db",
   "metadata": {},
   "source": [
    "### Importing Libraries"
   ]
  },
  {
   "cell_type": "code",
   "execution_count": 69,
   "id": "6c4a0f07-dd38-485f-a759-384378473774",
   "metadata": {},
   "outputs": [],
   "source": [
    "import pandas as pd  \n",
    "import numpy as np  \n",
    "import seaborn as sns  \n",
    "import matplotlib.pyplot as plt  \n",
    "from sklearn.model_selection import train_test_split  \n",
    "from sklearn.metrics import accuracy_score  \n",
    "from sklearn.metrics import classification_report  \n",
    "import re  \n",
    "import string  "
   ]
  },
  {
   "cell_type": "markdown",
   "id": "22c82c1a-3cf9-4d78-bf46-978f6bc00420",
   "metadata": {},
   "source": [
    "### Importing Dataset"
   ]
  },
  {
   "cell_type": "code",
   "execution_count": 70,
   "id": "45317cdb-a436-4d20-9d10-97151282c42b",
   "metadata": {},
   "outputs": [
    {
     "data": {
      "text/html": [
       "<div>\n",
       "<style scoped>\n",
       "    .dataframe tbody tr th:only-of-type {\n",
       "        vertical-align: middle;\n",
       "    }\n",
       "\n",
       "    .dataframe tbody tr th {\n",
       "        vertical-align: top;\n",
       "    }\n",
       "\n",
       "    .dataframe thead th {\n",
       "        text-align: right;\n",
       "    }\n",
       "</style>\n",
       "<table border=\"1\" class=\"dataframe\">\n",
       "  <thead>\n",
       "    <tr style=\"text-align: right;\">\n",
       "      <th></th>\n",
       "      <th>title</th>\n",
       "      <th>text</th>\n",
       "      <th>subject</th>\n",
       "      <th>date</th>\n",
       "    </tr>\n",
       "  </thead>\n",
       "  <tbody>\n",
       "    <tr>\n",
       "      <th>0</th>\n",
       "      <td>Donald Trump Sends Out Embarrassing New Year’...</td>\n",
       "      <td>Donald Trump just couldn t wish all Americans ...</td>\n",
       "      <td>News</td>\n",
       "      <td>December 31, 2017</td>\n",
       "    </tr>\n",
       "    <tr>\n",
       "      <th>1</th>\n",
       "      <td>Drunk Bragging Trump Staffer Started Russian ...</td>\n",
       "      <td>House Intelligence Committee Chairman Devin Nu...</td>\n",
       "      <td>News</td>\n",
       "      <td>December 31, 2017</td>\n",
       "    </tr>\n",
       "    <tr>\n",
       "      <th>2</th>\n",
       "      <td>Sheriff David Clarke Becomes An Internet Joke...</td>\n",
       "      <td>On Friday, it was revealed that former Milwauk...</td>\n",
       "      <td>News</td>\n",
       "      <td>December 30, 2017</td>\n",
       "    </tr>\n",
       "    <tr>\n",
       "      <th>3</th>\n",
       "      <td>Trump Is So Obsessed He Even Has Obama’s Name...</td>\n",
       "      <td>On Christmas day, Donald Trump announced that ...</td>\n",
       "      <td>News</td>\n",
       "      <td>December 29, 2017</td>\n",
       "    </tr>\n",
       "    <tr>\n",
       "      <th>4</th>\n",
       "      <td>Pope Francis Just Called Out Donald Trump Dur...</td>\n",
       "      <td>Pope Francis used his annual Christmas Day mes...</td>\n",
       "      <td>News</td>\n",
       "      <td>December 25, 2017</td>\n",
       "    </tr>\n",
       "    <tr>\n",
       "      <th>5</th>\n",
       "      <td>Racist Alabama Cops Brutalize Black Boy While...</td>\n",
       "      <td>The number of cases of cops brutalizing and ki...</td>\n",
       "      <td>News</td>\n",
       "      <td>December 25, 2017</td>\n",
       "    </tr>\n",
       "    <tr>\n",
       "      <th>6</th>\n",
       "      <td>Fresh Off The Golf Course, Trump Lashes Out A...</td>\n",
       "      <td>Donald Trump spent a good portion of his day a...</td>\n",
       "      <td>News</td>\n",
       "      <td>December 23, 2017</td>\n",
       "    </tr>\n",
       "    <tr>\n",
       "      <th>7</th>\n",
       "      <td>Trump Said Some INSANELY Racist Stuff Inside ...</td>\n",
       "      <td>In the wake of yet another court decision that...</td>\n",
       "      <td>News</td>\n",
       "      <td>December 23, 2017</td>\n",
       "    </tr>\n",
       "    <tr>\n",
       "      <th>8</th>\n",
       "      <td>Former CIA Director Slams Trump Over UN Bully...</td>\n",
       "      <td>Many people have raised the alarm regarding th...</td>\n",
       "      <td>News</td>\n",
       "      <td>December 22, 2017</td>\n",
       "    </tr>\n",
       "    <tr>\n",
       "      <th>9</th>\n",
       "      <td>WATCH: Brand-New Pro-Trump Ad Features So Muc...</td>\n",
       "      <td>Just when you might have thought we d get a br...</td>\n",
       "      <td>News</td>\n",
       "      <td>December 21, 2017</td>\n",
       "    </tr>\n",
       "  </tbody>\n",
       "</table>\n",
       "</div>"
      ],
      "text/plain": [
       "                                               title  \\\n",
       "0   Donald Trump Sends Out Embarrassing New Year’...   \n",
       "1   Drunk Bragging Trump Staffer Started Russian ...   \n",
       "2   Sheriff David Clarke Becomes An Internet Joke...   \n",
       "3   Trump Is So Obsessed He Even Has Obama’s Name...   \n",
       "4   Pope Francis Just Called Out Donald Trump Dur...   \n",
       "5   Racist Alabama Cops Brutalize Black Boy While...   \n",
       "6   Fresh Off The Golf Course, Trump Lashes Out A...   \n",
       "7   Trump Said Some INSANELY Racist Stuff Inside ...   \n",
       "8   Former CIA Director Slams Trump Over UN Bully...   \n",
       "9   WATCH: Brand-New Pro-Trump Ad Features So Muc...   \n",
       "\n",
       "                                                text subject  \\\n",
       "0  Donald Trump just couldn t wish all Americans ...    News   \n",
       "1  House Intelligence Committee Chairman Devin Nu...    News   \n",
       "2  On Friday, it was revealed that former Milwauk...    News   \n",
       "3  On Christmas day, Donald Trump announced that ...    News   \n",
       "4  Pope Francis used his annual Christmas Day mes...    News   \n",
       "5  The number of cases of cops brutalizing and ki...    News   \n",
       "6  Donald Trump spent a good portion of his day a...    News   \n",
       "7  In the wake of yet another court decision that...    News   \n",
       "8  Many people have raised the alarm regarding th...    News   \n",
       "9  Just when you might have thought we d get a br...    News   \n",
       "\n",
       "                date  \n",
       "0  December 31, 2017  \n",
       "1  December 31, 2017  \n",
       "2  December 30, 2017  \n",
       "3  December 29, 2017  \n",
       "4  December 25, 2017  \n",
       "5  December 25, 2017  \n",
       "6  December 23, 2017  \n",
       "7  December 23, 2017  \n",
       "8  December 22, 2017  \n",
       "9  December 21, 2017  "
      ]
     },
     "execution_count": 70,
     "metadata": {},
     "output_type": "execute_result"
    }
   ],
   "source": [
    "df_fake = pd.read_csv(\"Fake.csv\")  \n",
    "df_true = pd.read_csv(\"True.csv\")  \n",
    "  \n",
    "df_fake.head(10)  "
   ]
  },
  {
   "cell_type": "code",
   "execution_count": 71,
   "id": "94356ef6-ae7e-4269-a93e-fc1722242820",
   "metadata": {},
   "outputs": [
    {
     "data": {
      "text/html": [
       "<div>\n",
       "<style scoped>\n",
       "    .dataframe tbody tr th:only-of-type {\n",
       "        vertical-align: middle;\n",
       "    }\n",
       "\n",
       "    .dataframe tbody tr th {\n",
       "        vertical-align: top;\n",
       "    }\n",
       "\n",
       "    .dataframe thead th {\n",
       "        text-align: right;\n",
       "    }\n",
       "</style>\n",
       "<table border=\"1\" class=\"dataframe\">\n",
       "  <thead>\n",
       "    <tr style=\"text-align: right;\">\n",
       "      <th></th>\n",
       "      <th>title</th>\n",
       "      <th>text</th>\n",
       "      <th>subject</th>\n",
       "      <th>date</th>\n",
       "    </tr>\n",
       "  </thead>\n",
       "  <tbody>\n",
       "    <tr>\n",
       "      <th>0</th>\n",
       "      <td>As U.S. budget fight looms, Republicans flip t...</td>\n",
       "      <td>WASHINGTON (Reuters) - The head of a conservat...</td>\n",
       "      <td>politicsNews</td>\n",
       "      <td>December 31, 2017</td>\n",
       "    </tr>\n",
       "    <tr>\n",
       "      <th>1</th>\n",
       "      <td>U.S. military to accept transgender recruits o...</td>\n",
       "      <td>WASHINGTON (Reuters) - Transgender people will...</td>\n",
       "      <td>politicsNews</td>\n",
       "      <td>December 29, 2017</td>\n",
       "    </tr>\n",
       "    <tr>\n",
       "      <th>2</th>\n",
       "      <td>Senior U.S. Republican senator: 'Let Mr. Muell...</td>\n",
       "      <td>WASHINGTON (Reuters) - The special counsel inv...</td>\n",
       "      <td>politicsNews</td>\n",
       "      <td>December 31, 2017</td>\n",
       "    </tr>\n",
       "    <tr>\n",
       "      <th>3</th>\n",
       "      <td>FBI Russia probe helped by Australian diplomat...</td>\n",
       "      <td>WASHINGTON (Reuters) - Trump campaign adviser ...</td>\n",
       "      <td>politicsNews</td>\n",
       "      <td>December 30, 2017</td>\n",
       "    </tr>\n",
       "    <tr>\n",
       "      <th>4</th>\n",
       "      <td>Trump wants Postal Service to charge 'much mor...</td>\n",
       "      <td>SEATTLE/WASHINGTON (Reuters) - President Donal...</td>\n",
       "      <td>politicsNews</td>\n",
       "      <td>December 29, 2017</td>\n",
       "    </tr>\n",
       "    <tr>\n",
       "      <th>5</th>\n",
       "      <td>White House, Congress prepare for talks on spe...</td>\n",
       "      <td>WEST PALM BEACH, Fla./WASHINGTON (Reuters) - T...</td>\n",
       "      <td>politicsNews</td>\n",
       "      <td>December 29, 2017</td>\n",
       "    </tr>\n",
       "    <tr>\n",
       "      <th>6</th>\n",
       "      <td>Trump says Russia probe will be fair, but time...</td>\n",
       "      <td>WEST PALM BEACH, Fla (Reuters) - President Don...</td>\n",
       "      <td>politicsNews</td>\n",
       "      <td>December 29, 2017</td>\n",
       "    </tr>\n",
       "    <tr>\n",
       "      <th>7</th>\n",
       "      <td>Factbox: Trump on Twitter (Dec 29) - Approval ...</td>\n",
       "      <td>The following statements were posted to the ve...</td>\n",
       "      <td>politicsNews</td>\n",
       "      <td>December 29, 2017</td>\n",
       "    </tr>\n",
       "    <tr>\n",
       "      <th>8</th>\n",
       "      <td>Trump on Twitter (Dec 28) - Global Warming</td>\n",
       "      <td>The following statements were posted to the ve...</td>\n",
       "      <td>politicsNews</td>\n",
       "      <td>December 29, 2017</td>\n",
       "    </tr>\n",
       "    <tr>\n",
       "      <th>9</th>\n",
       "      <td>Alabama official to certify Senator-elect Jone...</td>\n",
       "      <td>WASHINGTON (Reuters) - Alabama Secretary of St...</td>\n",
       "      <td>politicsNews</td>\n",
       "      <td>December 28, 2017</td>\n",
       "    </tr>\n",
       "  </tbody>\n",
       "</table>\n",
       "</div>"
      ],
      "text/plain": [
       "                                               title  \\\n",
       "0  As U.S. budget fight looms, Republicans flip t...   \n",
       "1  U.S. military to accept transgender recruits o...   \n",
       "2  Senior U.S. Republican senator: 'Let Mr. Muell...   \n",
       "3  FBI Russia probe helped by Australian diplomat...   \n",
       "4  Trump wants Postal Service to charge 'much mor...   \n",
       "5  White House, Congress prepare for talks on spe...   \n",
       "6  Trump says Russia probe will be fair, but time...   \n",
       "7  Factbox: Trump on Twitter (Dec 29) - Approval ...   \n",
       "8         Trump on Twitter (Dec 28) - Global Warming   \n",
       "9  Alabama official to certify Senator-elect Jone...   \n",
       "\n",
       "                                                text       subject  \\\n",
       "0  WASHINGTON (Reuters) - The head of a conservat...  politicsNews   \n",
       "1  WASHINGTON (Reuters) - Transgender people will...  politicsNews   \n",
       "2  WASHINGTON (Reuters) - The special counsel inv...  politicsNews   \n",
       "3  WASHINGTON (Reuters) - Trump campaign adviser ...  politicsNews   \n",
       "4  SEATTLE/WASHINGTON (Reuters) - President Donal...  politicsNews   \n",
       "5  WEST PALM BEACH, Fla./WASHINGTON (Reuters) - T...  politicsNews   \n",
       "6  WEST PALM BEACH, Fla (Reuters) - President Don...  politicsNews   \n",
       "7  The following statements were posted to the ve...  politicsNews   \n",
       "8  The following statements were posted to the ve...  politicsNews   \n",
       "9  WASHINGTON (Reuters) - Alabama Secretary of St...  politicsNews   \n",
       "\n",
       "                 date  \n",
       "0  December 31, 2017   \n",
       "1  December 29, 2017   \n",
       "2  December 31, 2017   \n",
       "3  December 30, 2017   \n",
       "4  December 29, 2017   \n",
       "5  December 29, 2017   \n",
       "6  December 29, 2017   \n",
       "7  December 29, 2017   \n",
       "8  December 29, 2017   \n",
       "9  December 28, 2017   "
      ]
     },
     "execution_count": 71,
     "metadata": {},
     "output_type": "execute_result"
    }
   ],
   "source": [
    "df_true.head(10)  "
   ]
  },
  {
   "cell_type": "markdown",
   "id": "7adba07b-276d-4242-ab88-61e9762338ef",
   "metadata": {},
   "source": [
    "###  we will insert a column in both of the datasets named \"class\", which will be the target feature. In a fake dataframe, we will give a value of 1 to the class and on the other hand, with true, we will allocate 0."
   ]
  },
  {
   "cell_type": "markdown",
   "id": "0c9664e9-97f3-4f66-9489-cad16d34e9a6",
   "metadata": {},
   "source": [
    "### Note: 0 means it is true news, and 1 means it is a fake news"
   ]
  },
  {
   "cell_type": "code",
   "execution_count": 72,
   "id": "cae5fc56-4c99-4e40-b108-f01612987442",
   "metadata": {},
   "outputs": [],
   "source": [
    "df_fake[\"class\"]=0\n",
    "df_true[\"class\"]=1"
   ]
  },
  {
   "cell_type": "code",
   "execution_count": 73,
   "id": "c99ec687-773f-4290-a281-0ab648f71cea",
   "metadata": {},
   "outputs": [
    {
     "data": {
      "text/plain": [
       "(23481, 5)"
      ]
     },
     "execution_count": 73,
     "metadata": {},
     "output_type": "execute_result"
    }
   ],
   "source": [
    "df_fake.shape"
   ]
  },
  {
   "cell_type": "code",
   "execution_count": 74,
   "id": "3c72cbca-f2b8-4b3e-9542-2ec64f0d63d8",
   "metadata": {},
   "outputs": [
    {
     "data": {
      "text/plain": [
       "(21417, 5)"
      ]
     },
     "execution_count": 74,
     "metadata": {},
     "output_type": "execute_result"
    }
   ],
   "source": [
    "df_true.shape  "
   ]
  },
  {
   "cell_type": "markdown",
   "id": "47ee0440-5da8-49e8-b0a2-54f025672443",
   "metadata": {},
   "source": [
    "### We will remove the last 10 rows for manual testing  "
   ]
  },
  {
   "cell_type": "code",
   "execution_count": 75,
   "id": "e39b968f-4214-4581-8fda-c82d75bc8883",
   "metadata": {},
   "outputs": [],
   "source": [
    "df_fake_manual_testing= df_fake.tail(10)  \n",
    "for i in range(23480,23470,-1):  \n",
    "    df_fake.drop([i], axis = 0, inplace = True)      \n",
    "     \n",
    "df_true_manual_testing= df_true.tail(10)\n",
    "for i in range(21416,21406,-1):  \n",
    "    df_true.drop([i], axis = 0, inplace = True)  "
   ]
  },
  {
   "cell_type": "markdown",
   "id": "37b6fa56-c96f-47d7-a337-491b734720eb",
   "metadata": {},
   "source": [
    "### for manual testing"
   ]
  },
  {
   "cell_type": "code",
   "execution_count": 76,
   "id": "d7042c30-b694-4e1e-9a38-3f7574c6c66a",
   "metadata": {},
   "outputs": [],
   "source": [
    "df_manual_testing=pd.concat([df_fake_manual_testing,df_true_manual_testing],axis=0)\n",
    "df_manual_testing.to_csv(\"manual_testing.csv\")"
   ]
  },
  {
   "cell_type": "markdown",
   "id": "baa75cf4-99c3-4ad7-8c88-a70ef043842e",
   "metadata": {},
   "source": [
    "### merging of data"
   ]
  },
  {
   "cell_type": "code",
   "execution_count": 77,
   "id": "92541e76-d9e3-4042-84b4-a11069cc1a9e",
   "metadata": {},
   "outputs": [
    {
     "data": {
      "text/html": [
       "<div>\n",
       "<style scoped>\n",
       "    .dataframe tbody tr th:only-of-type {\n",
       "        vertical-align: middle;\n",
       "    }\n",
       "\n",
       "    .dataframe tbody tr th {\n",
       "        vertical-align: top;\n",
       "    }\n",
       "\n",
       "    .dataframe thead th {\n",
       "        text-align: right;\n",
       "    }\n",
       "</style>\n",
       "<table border=\"1\" class=\"dataframe\">\n",
       "  <thead>\n",
       "    <tr style=\"text-align: right;\">\n",
       "      <th></th>\n",
       "      <th>title</th>\n",
       "      <th>text</th>\n",
       "      <th>subject</th>\n",
       "      <th>date</th>\n",
       "      <th>class</th>\n",
       "    </tr>\n",
       "  </thead>\n",
       "  <tbody>\n",
       "    <tr>\n",
       "      <th>0</th>\n",
       "      <td>Donald Trump Sends Out Embarrassing New Year’...</td>\n",
       "      <td>Donald Trump just couldn t wish all Americans ...</td>\n",
       "      <td>News</td>\n",
       "      <td>December 31, 2017</td>\n",
       "      <td>0</td>\n",
       "    </tr>\n",
       "    <tr>\n",
       "      <th>1</th>\n",
       "      <td>Drunk Bragging Trump Staffer Started Russian ...</td>\n",
       "      <td>House Intelligence Committee Chairman Devin Nu...</td>\n",
       "      <td>News</td>\n",
       "      <td>December 31, 2017</td>\n",
       "      <td>0</td>\n",
       "    </tr>\n",
       "    <tr>\n",
       "      <th>2</th>\n",
       "      <td>Sheriff David Clarke Becomes An Internet Joke...</td>\n",
       "      <td>On Friday, it was revealed that former Milwauk...</td>\n",
       "      <td>News</td>\n",
       "      <td>December 30, 2017</td>\n",
       "      <td>0</td>\n",
       "    </tr>\n",
       "    <tr>\n",
       "      <th>3</th>\n",
       "      <td>Trump Is So Obsessed He Even Has Obama’s Name...</td>\n",
       "      <td>On Christmas day, Donald Trump announced that ...</td>\n",
       "      <td>News</td>\n",
       "      <td>December 29, 2017</td>\n",
       "      <td>0</td>\n",
       "    </tr>\n",
       "    <tr>\n",
       "      <th>4</th>\n",
       "      <td>Pope Francis Just Called Out Donald Trump Dur...</td>\n",
       "      <td>Pope Francis used his annual Christmas Day mes...</td>\n",
       "      <td>News</td>\n",
       "      <td>December 25, 2017</td>\n",
       "      <td>0</td>\n",
       "    </tr>\n",
       "    <tr>\n",
       "      <th>5</th>\n",
       "      <td>Racist Alabama Cops Brutalize Black Boy While...</td>\n",
       "      <td>The number of cases of cops brutalizing and ki...</td>\n",
       "      <td>News</td>\n",
       "      <td>December 25, 2017</td>\n",
       "      <td>0</td>\n",
       "    </tr>\n",
       "    <tr>\n",
       "      <th>6</th>\n",
       "      <td>Fresh Off The Golf Course, Trump Lashes Out A...</td>\n",
       "      <td>Donald Trump spent a good portion of his day a...</td>\n",
       "      <td>News</td>\n",
       "      <td>December 23, 2017</td>\n",
       "      <td>0</td>\n",
       "    </tr>\n",
       "    <tr>\n",
       "      <th>7</th>\n",
       "      <td>Trump Said Some INSANELY Racist Stuff Inside ...</td>\n",
       "      <td>In the wake of yet another court decision that...</td>\n",
       "      <td>News</td>\n",
       "      <td>December 23, 2017</td>\n",
       "      <td>0</td>\n",
       "    </tr>\n",
       "    <tr>\n",
       "      <th>8</th>\n",
       "      <td>Former CIA Director Slams Trump Over UN Bully...</td>\n",
       "      <td>Many people have raised the alarm regarding th...</td>\n",
       "      <td>News</td>\n",
       "      <td>December 22, 2017</td>\n",
       "      <td>0</td>\n",
       "    </tr>\n",
       "    <tr>\n",
       "      <th>9</th>\n",
       "      <td>WATCH: Brand-New Pro-Trump Ad Features So Muc...</td>\n",
       "      <td>Just when you might have thought we d get a br...</td>\n",
       "      <td>News</td>\n",
       "      <td>December 21, 2017</td>\n",
       "      <td>0</td>\n",
       "    </tr>\n",
       "  </tbody>\n",
       "</table>\n",
       "</div>"
      ],
      "text/plain": [
       "                                               title  \\\n",
       "0   Donald Trump Sends Out Embarrassing New Year’...   \n",
       "1   Drunk Bragging Trump Staffer Started Russian ...   \n",
       "2   Sheriff David Clarke Becomes An Internet Joke...   \n",
       "3   Trump Is So Obsessed He Even Has Obama’s Name...   \n",
       "4   Pope Francis Just Called Out Donald Trump Dur...   \n",
       "5   Racist Alabama Cops Brutalize Black Boy While...   \n",
       "6   Fresh Off The Golf Course, Trump Lashes Out A...   \n",
       "7   Trump Said Some INSANELY Racist Stuff Inside ...   \n",
       "8   Former CIA Director Slams Trump Over UN Bully...   \n",
       "9   WATCH: Brand-New Pro-Trump Ad Features So Muc...   \n",
       "\n",
       "                                                text subject  \\\n",
       "0  Donald Trump just couldn t wish all Americans ...    News   \n",
       "1  House Intelligence Committee Chairman Devin Nu...    News   \n",
       "2  On Friday, it was revealed that former Milwauk...    News   \n",
       "3  On Christmas day, Donald Trump announced that ...    News   \n",
       "4  Pope Francis used his annual Christmas Day mes...    News   \n",
       "5  The number of cases of cops brutalizing and ki...    News   \n",
       "6  Donald Trump spent a good portion of his day a...    News   \n",
       "7  In the wake of yet another court decision that...    News   \n",
       "8  Many people have raised the alarm regarding th...    News   \n",
       "9  Just when you might have thought we d get a br...    News   \n",
       "\n",
       "                date  class  \n",
       "0  December 31, 2017      0  \n",
       "1  December 31, 2017      0  \n",
       "2  December 30, 2017      0  \n",
       "3  December 29, 2017      0  \n",
       "4  December 25, 2017      0  \n",
       "5  December 25, 2017      0  \n",
       "6  December 23, 2017      0  \n",
       "7  December 23, 2017      0  \n",
       "8  December 22, 2017      0  \n",
       "9  December 21, 2017      0  "
      ]
     },
     "execution_count": 77,
     "metadata": {},
     "output_type": "execute_result"
    }
   ],
   "source": [
    "df_merge=pd.concat([df_fake,df_true],axis=0)\n",
    "df_merge.head(10)"
   ]
  },
  {
   "cell_type": "markdown",
   "id": "d811049e-513d-4825-bc1c-e52b6e173ff8",
   "metadata": {},
   "source": [
    "### We will remove the columns that are required for us "
   ]
  },
  {
   "cell_type": "code",
   "execution_count": 78,
   "id": "f4a344db-b02b-453f-b213-1153d0e120a9",
   "metadata": {},
   "outputs": [
    {
     "data": {
      "text/html": [
       "<div>\n",
       "<style scoped>\n",
       "    .dataframe tbody tr th:only-of-type {\n",
       "        vertical-align: middle;\n",
       "    }\n",
       "\n",
       "    .dataframe tbody tr th {\n",
       "        vertical-align: top;\n",
       "    }\n",
       "\n",
       "    .dataframe thead th {\n",
       "        text-align: right;\n",
       "    }\n",
       "</style>\n",
       "<table border=\"1\" class=\"dataframe\">\n",
       "  <thead>\n",
       "    <tr style=\"text-align: right;\">\n",
       "      <th></th>\n",
       "      <th>text</th>\n",
       "      <th>class</th>\n",
       "    </tr>\n",
       "  </thead>\n",
       "  <tbody>\n",
       "    <tr>\n",
       "      <th>0</th>\n",
       "      <td>Donald Trump just couldn t wish all Americans ...</td>\n",
       "      <td>0</td>\n",
       "    </tr>\n",
       "    <tr>\n",
       "      <th>1</th>\n",
       "      <td>House Intelligence Committee Chairman Devin Nu...</td>\n",
       "      <td>0</td>\n",
       "    </tr>\n",
       "    <tr>\n",
       "      <th>2</th>\n",
       "      <td>On Friday, it was revealed that former Milwauk...</td>\n",
       "      <td>0</td>\n",
       "    </tr>\n",
       "    <tr>\n",
       "      <th>3</th>\n",
       "      <td>On Christmas day, Donald Trump announced that ...</td>\n",
       "      <td>0</td>\n",
       "    </tr>\n",
       "    <tr>\n",
       "      <th>4</th>\n",
       "      <td>Pope Francis used his annual Christmas Day mes...</td>\n",
       "      <td>0</td>\n",
       "    </tr>\n",
       "    <tr>\n",
       "      <th>5</th>\n",
       "      <td>The number of cases of cops brutalizing and ki...</td>\n",
       "      <td>0</td>\n",
       "    </tr>\n",
       "    <tr>\n",
       "      <th>6</th>\n",
       "      <td>Donald Trump spent a good portion of his day a...</td>\n",
       "      <td>0</td>\n",
       "    </tr>\n",
       "    <tr>\n",
       "      <th>7</th>\n",
       "      <td>In the wake of yet another court decision that...</td>\n",
       "      <td>0</td>\n",
       "    </tr>\n",
       "    <tr>\n",
       "      <th>8</th>\n",
       "      <td>Many people have raised the alarm regarding th...</td>\n",
       "      <td>0</td>\n",
       "    </tr>\n",
       "    <tr>\n",
       "      <th>9</th>\n",
       "      <td>Just when you might have thought we d get a br...</td>\n",
       "      <td>0</td>\n",
       "    </tr>\n",
       "  </tbody>\n",
       "</table>\n",
       "</div>"
      ],
      "text/plain": [
       "                                                text  class\n",
       "0  Donald Trump just couldn t wish all Americans ...      0\n",
       "1  House Intelligence Committee Chairman Devin Nu...      0\n",
       "2  On Friday, it was revealed that former Milwauk...      0\n",
       "3  On Christmas day, Donald Trump announced that ...      0\n",
       "4  Pope Francis used his annual Christmas Day mes...      0\n",
       "5  The number of cases of cops brutalizing and ki...      0\n",
       "6  Donald Trump spent a good portion of his day a...      0\n",
       "7  In the wake of yet another court decision that...      0\n",
       "8  Many people have raised the alarm regarding th...      0\n",
       "9  Just when you might have thought we d get a br...      0"
      ]
     },
     "execution_count": 78,
     "metadata": {},
     "output_type": "execute_result"
    }
   ],
   "source": [
    "df=df_merge.drop([\"title\",\"subject\",\"date\"],axis=1)\n",
    "df.head(10)"
   ]
  },
  {
   "cell_type": "markdown",
   "id": "e7c5a64a-2741-4c2f-ab4a-5e356cffdd84",
   "metadata": {},
   "source": [
    "### shuffling the dataset"
   ]
  },
  {
   "cell_type": "code",
   "execution_count": 79,
   "id": "df09e84e-db53-4d42-a082-1f2ee171898f",
   "metadata": {},
   "outputs": [],
   "source": [
    "df=df.sample(frac=1)"
   ]
  },
  {
   "cell_type": "code",
   "execution_count": 80,
   "id": "52e3a08a-1c1a-4b10-a027-080c0dbbc27a",
   "metadata": {},
   "outputs": [
    {
     "data": {
      "text/html": [
       "<div>\n",
       "<style scoped>\n",
       "    .dataframe tbody tr th:only-of-type {\n",
       "        vertical-align: middle;\n",
       "    }\n",
       "\n",
       "    .dataframe tbody tr th {\n",
       "        vertical-align: top;\n",
       "    }\n",
       "\n",
       "    .dataframe thead th {\n",
       "        text-align: right;\n",
       "    }\n",
       "</style>\n",
       "<table border=\"1\" class=\"dataframe\">\n",
       "  <thead>\n",
       "    <tr style=\"text-align: right;\">\n",
       "      <th></th>\n",
       "      <th>text</th>\n",
       "      <th>class</th>\n",
       "    </tr>\n",
       "  </thead>\n",
       "  <tbody>\n",
       "    <tr>\n",
       "      <th>10575</th>\n",
       "      <td>Tucker Carlson debated a New Jersey Democratic...</td>\n",
       "      <td>0</td>\n",
       "    </tr>\n",
       "    <tr>\n",
       "      <th>14423</th>\n",
       "      <td>RAMALLAH/WASHINGTON (Reuters) - Palestinian of...</td>\n",
       "      <td>1</td>\n",
       "    </tr>\n",
       "    <tr>\n",
       "      <th>13761</th>\n",
       "      <td>SOFIA (Reuters) - The Bulgarian Orthodox Churc...</td>\n",
       "      <td>1</td>\n",
       "    </tr>\n",
       "    <tr>\n",
       "      <th>19776</th>\n",
       "      <td>NEW YORK (Reuters) - France on Monday gave a s...</td>\n",
       "      <td>1</td>\n",
       "    </tr>\n",
       "    <tr>\n",
       "      <th>20619</th>\n",
       "      <td>Of course Obama the putz blames too little gov...</td>\n",
       "      <td>0</td>\n",
       "    </tr>\n",
       "    <tr>\n",
       "      <th>2773</th>\n",
       "      <td>Donald Trump is literally ordering the governm...</td>\n",
       "      <td>0</td>\n",
       "    </tr>\n",
       "    <tr>\n",
       "      <th>21039</th>\n",
       "      <td>PRISTINA (Reuters) - Kosovo s center-right coa...</td>\n",
       "      <td>1</td>\n",
       "    </tr>\n",
       "    <tr>\n",
       "      <th>6005</th>\n",
       "      <td>ABOARD AIR FORCE ONE (Reuters) - U.S. Presiden...</td>\n",
       "      <td>1</td>\n",
       "    </tr>\n",
       "    <tr>\n",
       "      <th>122</th>\n",
       "      <td>The following statements were posted to the ve...</td>\n",
       "      <td>1</td>\n",
       "    </tr>\n",
       "    <tr>\n",
       "      <th>23075</th>\n",
       "      <td>21st Century Wire says Donald Trump s campaign...</td>\n",
       "      <td>0</td>\n",
       "    </tr>\n",
       "    <tr>\n",
       "      <th>17421</th>\n",
       "      <td>MOGADISHU (Reuters) - More than 200 people wer...</td>\n",
       "      <td>1</td>\n",
       "    </tr>\n",
       "    <tr>\n",
       "      <th>18355</th>\n",
       "      <td>New York City s radical leftist Democrat Mayor...</td>\n",
       "      <td>0</td>\n",
       "    </tr>\n",
       "    <tr>\n",
       "      <th>2932</th>\n",
       "      <td>Donald Trump officially and depressingly takes...</td>\n",
       "      <td>0</td>\n",
       "    </tr>\n",
       "    <tr>\n",
       "      <th>21078</th>\n",
       "      <td>BRUSSELS (Reuters) - Germany s entry alongside...</td>\n",
       "      <td>1</td>\n",
       "    </tr>\n",
       "    <tr>\n",
       "      <th>3108</th>\n",
       "      <td>WASHINGTON (Reuters) - The United States holds...</td>\n",
       "      <td>1</td>\n",
       "    </tr>\n",
       "    <tr>\n",
       "      <th>10341</th>\n",
       "      <td>The hysterical Terrence Williams weighs in on ...</td>\n",
       "      <td>0</td>\n",
       "    </tr>\n",
       "    <tr>\n",
       "      <th>19789</th>\n",
       "      <td>Graphic, uncensored and disturbing is how Jam...</td>\n",
       "      <td>0</td>\n",
       "    </tr>\n",
       "    <tr>\n",
       "      <th>8480</th>\n",
       "      <td>CHICAGO/WASHINGTON (Reuters) - The U.S. Depart...</td>\n",
       "      <td>1</td>\n",
       "    </tr>\n",
       "    <tr>\n",
       "      <th>11961</th>\n",
       "      <td>WASHINGTON (Reuters) - U.S. Vice President Mik...</td>\n",
       "      <td>1</td>\n",
       "    </tr>\n",
       "    <tr>\n",
       "      <th>21509</th>\n",
       "      <td>It s time to stop hitting the snooze button Am...</td>\n",
       "      <td>0</td>\n",
       "    </tr>\n",
       "    <tr>\n",
       "      <th>19171</th>\n",
       "      <td>According to the New York Times, outlet store...</td>\n",
       "      <td>0</td>\n",
       "    </tr>\n",
       "    <tr>\n",
       "      <th>2307</th>\n",
       "      <td>After Donald Trump s Saturday morning tweetsto...</td>\n",
       "      <td>0</td>\n",
       "    </tr>\n",
       "    <tr>\n",
       "      <th>7556</th>\n",
       "      <td>The Houston Police Department and Texas Ranger...</td>\n",
       "      <td>0</td>\n",
       "    </tr>\n",
       "    <tr>\n",
       "      <th>15377</th>\n",
       "      <td>MOSCOW (Reuters) - A Kremlin aide said on Wedn...</td>\n",
       "      <td>1</td>\n",
       "    </tr>\n",
       "    <tr>\n",
       "      <th>13501</th>\n",
       "      <td>I certainly hope Hillary picks Liz Warren for ...</td>\n",
       "      <td>0</td>\n",
       "    </tr>\n",
       "    <tr>\n",
       "      <th>8262</th>\n",
       "      <td>VIENTIANE (Reuters) - The United States announ...</td>\n",
       "      <td>1</td>\n",
       "    </tr>\n",
       "    <tr>\n",
       "      <th>9440</th>\n",
       "      <td>WASHINGTON (Reuters) - Democratic presidential...</td>\n",
       "      <td>1</td>\n",
       "    </tr>\n",
       "    <tr>\n",
       "      <th>6012</th>\n",
       "      <td>The right wing loves to appropriate revolution...</td>\n",
       "      <td>0</td>\n",
       "    </tr>\n",
       "    <tr>\n",
       "      <th>5724</th>\n",
       "      <td>Cracks are beginning to form in the GOP s wall...</td>\n",
       "      <td>0</td>\n",
       "    </tr>\n",
       "    <tr>\n",
       "      <th>18663</th>\n",
       "      <td>(Advisory: Strong language in paragraph 16 ma...</td>\n",
       "      <td>1</td>\n",
       "    </tr>\n",
       "  </tbody>\n",
       "</table>\n",
       "</div>"
      ],
      "text/plain": [
       "                                                    text  class\n",
       "10575  Tucker Carlson debated a New Jersey Democratic...      0\n",
       "14423  RAMALLAH/WASHINGTON (Reuters) - Palestinian of...      1\n",
       "13761  SOFIA (Reuters) - The Bulgarian Orthodox Churc...      1\n",
       "19776  NEW YORK (Reuters) - France on Monday gave a s...      1\n",
       "20619  Of course Obama the putz blames too little gov...      0\n",
       "2773   Donald Trump is literally ordering the governm...      0\n",
       "21039  PRISTINA (Reuters) - Kosovo s center-right coa...      1\n",
       "6005   ABOARD AIR FORCE ONE (Reuters) - U.S. Presiden...      1\n",
       "122    The following statements were posted to the ve...      1\n",
       "23075  21st Century Wire says Donald Trump s campaign...      0\n",
       "17421  MOGADISHU (Reuters) - More than 200 people wer...      1\n",
       "18355  New York City s radical leftist Democrat Mayor...      0\n",
       "2932   Donald Trump officially and depressingly takes...      0\n",
       "21078  BRUSSELS (Reuters) - Germany s entry alongside...      1\n",
       "3108   WASHINGTON (Reuters) - The United States holds...      1\n",
       "10341  The hysterical Terrence Williams weighs in on ...      0\n",
       "19789   Graphic, uncensored and disturbing is how Jam...      0\n",
       "8480   CHICAGO/WASHINGTON (Reuters) - The U.S. Depart...      1\n",
       "11961  WASHINGTON (Reuters) - U.S. Vice President Mik...      1\n",
       "21509  It s time to stop hitting the snooze button Am...      0\n",
       "19171   According to the New York Times, outlet store...      0\n",
       "2307   After Donald Trump s Saturday morning tweetsto...      0\n",
       "7556   The Houston Police Department and Texas Ranger...      0\n",
       "15377  MOSCOW (Reuters) - A Kremlin aide said on Wedn...      1\n",
       "13501  I certainly hope Hillary picks Liz Warren for ...      0\n",
       "8262   VIENTIANE (Reuters) - The United States announ...      1\n",
       "9440   WASHINGTON (Reuters) - Democratic presidential...      1\n",
       "6012   The right wing loves to appropriate revolution...      0\n",
       "5724   Cracks are beginning to form in the GOP s wall...      0\n",
       "18663   (Advisory: Strong language in paragraph 16 ma...      1"
      ]
     },
     "execution_count": 80,
     "metadata": {},
     "output_type": "execute_result"
    }
   ],
   "source": [
    "df.head(30)"
   ]
  },
  {
   "cell_type": "markdown",
   "id": "2759b819-964c-43df-8c91-dfca14da9286",
   "metadata": {},
   "source": [
    "### checking null values"
   ]
  },
  {
   "cell_type": "code",
   "execution_count": 81,
   "id": "b82eb15f-55e0-49af-be9a-bc810a65cd07",
   "metadata": {},
   "outputs": [
    {
     "data": {
      "text/plain": [
       "text     0\n",
       "class    0\n",
       "dtype: int64"
      ]
     },
     "execution_count": 81,
     "metadata": {},
     "output_type": "execute_result"
    }
   ],
   "source": [
    "df.isnull().sum()"
   ]
  },
  {
   "cell_type": "markdown",
   "id": "992ff5f7-22de-4ed8-be7b-1e8add32c2c5",
   "metadata": {},
   "source": [
    "### function that can process the texts in the news"
   ]
  },
  {
   "cell_type": "code",
   "execution_count": 82,
   "id": "60b18a93-d5b1-4b40-8a95-19facb43090c",
   "metadata": {},
   "outputs": [],
   "source": [
    "def word_drop(t):  \n",
    "    t = t.lower()  \n",
    "    t = re.sub('\\[.*?\\]', '', t)  \n",
    "    t = re.sub(\"\\\\W\",\" \",t)  \n",
    "    t = re.sub('https?://\\S+|www\\.\\S+', '', t)  \n",
    "    t = re.sub('<.*?>+', '', t)  \n",
    "    t = re.sub('[%s]' % re.escape(string.punctuation), '', t)  \n",
    "    t = re.sub('\\n', '', t)  \n",
    "    t = re.sub('\\w*\\d\\w*', '', t)      \n",
    "    return t  \n",
    "  "
   ]
  },
  {
   "cell_type": "code",
   "execution_count": 83,
   "id": "b279e772-bc7d-43e9-a8e1-249cff996be7",
   "metadata": {},
   "outputs": [],
   "source": [
    "df[\"text\"] = df[\"text\"].apply(word_drop)"
   ]
  },
  {
   "cell_type": "code",
   "execution_count": 84,
   "id": "f2942df2-d3b0-4ecc-9c6b-f0e26f809599",
   "metadata": {},
   "outputs": [
    {
     "data": {
      "text/html": [
       "<div>\n",
       "<style scoped>\n",
       "    .dataframe tbody tr th:only-of-type {\n",
       "        vertical-align: middle;\n",
       "    }\n",
       "\n",
       "    .dataframe tbody tr th {\n",
       "        vertical-align: top;\n",
       "    }\n",
       "\n",
       "    .dataframe thead th {\n",
       "        text-align: right;\n",
       "    }\n",
       "</style>\n",
       "<table border=\"1\" class=\"dataframe\">\n",
       "  <thead>\n",
       "    <tr style=\"text-align: right;\">\n",
       "      <th></th>\n",
       "      <th>text</th>\n",
       "      <th>class</th>\n",
       "    </tr>\n",
       "  </thead>\n",
       "  <tbody>\n",
       "    <tr>\n",
       "      <th>10575</th>\n",
       "      <td>tucker carlson debated a new jersey democratic...</td>\n",
       "      <td>0</td>\n",
       "    </tr>\n",
       "    <tr>\n",
       "      <th>14423</th>\n",
       "      <td>ramallah washington  reuters    palestinian of...</td>\n",
       "      <td>1</td>\n",
       "    </tr>\n",
       "    <tr>\n",
       "      <th>13761</th>\n",
       "      <td>sofia  reuters    the bulgarian orthodox churc...</td>\n",
       "      <td>1</td>\n",
       "    </tr>\n",
       "    <tr>\n",
       "      <th>19776</th>\n",
       "      <td>new york  reuters    france on monday gave a s...</td>\n",
       "      <td>1</td>\n",
       "    </tr>\n",
       "    <tr>\n",
       "      <th>20619</th>\n",
       "      <td>of course obama the putz blames too little gov...</td>\n",
       "      <td>0</td>\n",
       "    </tr>\n",
       "    <tr>\n",
       "      <th>2773</th>\n",
       "      <td>donald trump is literally ordering the governm...</td>\n",
       "      <td>0</td>\n",
       "    </tr>\n",
       "    <tr>\n",
       "      <th>21039</th>\n",
       "      <td>pristina  reuters    kosovo s center right coa...</td>\n",
       "      <td>1</td>\n",
       "    </tr>\n",
       "    <tr>\n",
       "      <th>6005</th>\n",
       "      <td>aboard air force one  reuters    u s  presiden...</td>\n",
       "      <td>1</td>\n",
       "    </tr>\n",
       "    <tr>\n",
       "      <th>122</th>\n",
       "      <td>the following statements were posted to the ve...</td>\n",
       "      <td>1</td>\n",
       "    </tr>\n",
       "    <tr>\n",
       "      <th>23075</th>\n",
       "      <td>century wire says donald trump s campaign  pr...</td>\n",
       "      <td>0</td>\n",
       "    </tr>\n",
       "  </tbody>\n",
       "</table>\n",
       "</div>"
      ],
      "text/plain": [
       "                                                    text  class\n",
       "10575  tucker carlson debated a new jersey democratic...      0\n",
       "14423  ramallah washington  reuters    palestinian of...      1\n",
       "13761  sofia  reuters    the bulgarian orthodox churc...      1\n",
       "19776  new york  reuters    france on monday gave a s...      1\n",
       "20619  of course obama the putz blames too little gov...      0\n",
       "2773   donald trump is literally ordering the governm...      0\n",
       "21039  pristina  reuters    kosovo s center right coa...      1\n",
       "6005   aboard air force one  reuters    u s  presiden...      1\n",
       "122    the following statements were posted to the ve...      1\n",
       "23075   century wire says donald trump s campaign  pr...      0"
      ]
     },
     "execution_count": 84,
     "metadata": {},
     "output_type": "execute_result"
    }
   ],
   "source": [
    "df.head(10)"
   ]
  },
  {
   "cell_type": "markdown",
   "id": "8e92e6b9-c333-4560-a646-94791c36ad01",
   "metadata": {},
   "source": [
    "### Now we will define the dependent variable and independent variables "
   ]
  },
  {
   "cell_type": "code",
   "execution_count": 85,
   "id": "ec928828-f46e-4af7-a9f7-de63bdfcb1fb",
   "metadata": {},
   "outputs": [],
   "source": [
    " x = df[\"text\"]  \n",
    "y = df[\"class\"]  "
   ]
  },
  {
   "cell_type": "markdown",
   "id": "d037611d-95f8-42ee-95b2-4f895c141c60",
   "metadata": {},
   "source": [
    "### Splitting the Dataset into a Training and Testing Set  "
   ]
  },
  {
   "cell_type": "code",
   "execution_count": 86,
   "id": "22c43507-862a-4855-b00b-db70ba1276fc",
   "metadata": {},
   "outputs": [],
   "source": [
    "x_train, x_test, y_train, y_test = train_test_split(x, y, test_size=0.2)  "
   ]
  },
  {
   "cell_type": "markdown",
   "id": "1dad5184-ca80-45b8-917b-aebd15470bec",
   "metadata": {},
   "source": [
    "### text data into numerical formats"
   ]
  },
  {
   "cell_type": "code",
   "execution_count": 87,
   "id": "1c0fe437-862d-428b-833a-0166c52996a5",
   "metadata": {},
   "outputs": [],
   "source": [
    "from sklearn.feature_extraction.text import TfidfVectorizer  \n",
    "vectorization = TfidfVectorizer()  \n",
    "xv_train = vectorization.fit_transform(x_train)  \n",
    "xv_test = vectorization.transform(x_test)  "
   ]
  },
  {
   "cell_type": "markdown",
   "id": "c49871b2-3b12-4bc4-ac9e-981e0bf66eec",
   "metadata": {},
   "source": [
    "### Logistic regression"
   ]
  },
  {
   "cell_type": "code",
   "execution_count": 88,
   "id": "8f83aa08-737d-468f-8f3f-591863a3a3d6",
   "metadata": {},
   "outputs": [
    {
     "data": {
      "text/html": [
       "<style>#sk-container-id-8 {color: black;background-color: white;}#sk-container-id-8 pre{padding: 0;}#sk-container-id-8 div.sk-toggleable {background-color: white;}#sk-container-id-8 label.sk-toggleable__label {cursor: pointer;display: block;width: 100%;margin-bottom: 0;padding: 0.3em;box-sizing: border-box;text-align: center;}#sk-container-id-8 label.sk-toggleable__label-arrow:before {content: \"▸\";float: left;margin-right: 0.25em;color: #696969;}#sk-container-id-8 label.sk-toggleable__label-arrow:hover:before {color: black;}#sk-container-id-8 div.sk-estimator:hover label.sk-toggleable__label-arrow:before {color: black;}#sk-container-id-8 div.sk-toggleable__content {max-height: 0;max-width: 0;overflow: hidden;text-align: left;background-color: #f0f8ff;}#sk-container-id-8 div.sk-toggleable__content pre {margin: 0.2em;color: black;border-radius: 0.25em;background-color: #f0f8ff;}#sk-container-id-8 input.sk-toggleable__control:checked~div.sk-toggleable__content {max-height: 200px;max-width: 100%;overflow: auto;}#sk-container-id-8 input.sk-toggleable__control:checked~label.sk-toggleable__label-arrow:before {content: \"▾\";}#sk-container-id-8 div.sk-estimator input.sk-toggleable__control:checked~label.sk-toggleable__label {background-color: #d4ebff;}#sk-container-id-8 div.sk-label input.sk-toggleable__control:checked~label.sk-toggleable__label {background-color: #d4ebff;}#sk-container-id-8 input.sk-hidden--visually {border: 0;clip: rect(1px 1px 1px 1px);clip: rect(1px, 1px, 1px, 1px);height: 1px;margin: -1px;overflow: hidden;padding: 0;position: absolute;width: 1px;}#sk-container-id-8 div.sk-estimator {font-family: monospace;background-color: #f0f8ff;border: 1px dotted black;border-radius: 0.25em;box-sizing: border-box;margin-bottom: 0.5em;}#sk-container-id-8 div.sk-estimator:hover {background-color: #d4ebff;}#sk-container-id-8 div.sk-parallel-item::after {content: \"\";width: 100%;border-bottom: 1px solid gray;flex-grow: 1;}#sk-container-id-8 div.sk-label:hover label.sk-toggleable__label {background-color: #d4ebff;}#sk-container-id-8 div.sk-serial::before {content: \"\";position: absolute;border-left: 1px solid gray;box-sizing: border-box;top: 0;bottom: 0;left: 50%;z-index: 0;}#sk-container-id-8 div.sk-serial {display: flex;flex-direction: column;align-items: center;background-color: white;padding-right: 0.2em;padding-left: 0.2em;position: relative;}#sk-container-id-8 div.sk-item {position: relative;z-index: 1;}#sk-container-id-8 div.sk-parallel {display: flex;align-items: stretch;justify-content: center;background-color: white;position: relative;}#sk-container-id-8 div.sk-item::before, #sk-container-id-8 div.sk-parallel-item::before {content: \"\";position: absolute;border-left: 1px solid gray;box-sizing: border-box;top: 0;bottom: 0;left: 50%;z-index: -1;}#sk-container-id-8 div.sk-parallel-item {display: flex;flex-direction: column;z-index: 1;position: relative;background-color: white;}#sk-container-id-8 div.sk-parallel-item:first-child::after {align-self: flex-end;width: 50%;}#sk-container-id-8 div.sk-parallel-item:last-child::after {align-self: flex-start;width: 50%;}#sk-container-id-8 div.sk-parallel-item:only-child::after {width: 0;}#sk-container-id-8 div.sk-dashed-wrapped {border: 1px dashed gray;margin: 0 0.4em 0.5em 0.4em;box-sizing: border-box;padding-bottom: 0.4em;background-color: white;}#sk-container-id-8 div.sk-label label {font-family: monospace;font-weight: bold;display: inline-block;line-height: 1.2em;}#sk-container-id-8 div.sk-label-container {text-align: center;}#sk-container-id-8 div.sk-container {/* jupyter's `normalize.less` sets `[hidden] { display: none; }` but bootstrap.min.css set `[hidden] { display: none !important; }` so we also need the `!important` here to be able to override the default hidden behavior on the sphinx rendered scikit-learn.org. See: https://github.com/scikit-learn/scikit-learn/issues/21755 */display: inline-block !important;position: relative;}#sk-container-id-8 div.sk-text-repr-fallback {display: none;}</style><div id=\"sk-container-id-8\" class=\"sk-top-container\"><div class=\"sk-text-repr-fallback\"><pre>LogisticRegression()</pre><b>In a Jupyter environment, please rerun this cell to show the HTML representation or trust the notebook. <br />On GitHub, the HTML representation is unable to render, please try loading this page with nbviewer.org.</b></div><div class=\"sk-container\" hidden><div class=\"sk-item\"><div class=\"sk-estimator sk-toggleable\"><input class=\"sk-toggleable__control sk-hidden--visually\" id=\"sk-estimator-id-8\" type=\"checkbox\" checked><label for=\"sk-estimator-id-8\" class=\"sk-toggleable__label sk-toggleable__label-arrow\">LogisticRegression</label><div class=\"sk-toggleable__content\"><pre>LogisticRegression()</pre></div></div></div></div></div>"
      ],
      "text/plain": [
       "LogisticRegression()"
      ]
     },
     "execution_count": 88,
     "metadata": {},
     "output_type": "execute_result"
    }
   ],
   "source": [
    "from sklearn.linear_model import LogisticRegression  \n",
    "lr = LogisticRegression()  \n",
    "lr.fit(xv_train,y_train)  "
   ]
  },
  {
   "cell_type": "code",
   "execution_count": 89,
   "id": "e1837b9d-169f-499a-8e44-6265f94449cc",
   "metadata": {},
   "outputs": [
    {
     "data": {
      "text/plain": [
       "0.9870766488413547"
      ]
     },
     "execution_count": 89,
     "metadata": {},
     "output_type": "execute_result"
    }
   ],
   "source": [
    "pred_lr=lr.predict(xv_test)  \n",
    "lr.score(xv_test, y_test) "
   ]
  },
  {
   "cell_type": "code",
   "execution_count": 90,
   "id": "45d04f3f-18ab-4a3f-93ec-1561537a1c50",
   "metadata": {},
   "outputs": [
    {
     "name": "stdout",
     "output_type": "stream",
     "text": [
      "              precision    recall  f1-score   support\n",
      "\n",
      "           0       0.99      0.99      0.99      4651\n",
      "           1       0.99      0.99      0.99      4325\n",
      "\n",
      "    accuracy                           0.99      8976\n",
      "   macro avg       0.99      0.99      0.99      8976\n",
      "weighted avg       0.99      0.99      0.99      8976\n",
      "\n"
     ]
    }
   ],
   "source": [
    "print(classification_report(y_test, pred_lr)) "
   ]
  },
  {
   "cell_type": "markdown",
   "id": "878301af-defe-4a08-ba2f-ecc5cfafff3b",
   "metadata": {},
   "source": [
    "### Decision tree classification"
   ]
  },
  {
   "cell_type": "code",
   "execution_count": 91,
   "id": "45521c24-90be-4453-8b17-ee7d5347c5ed",
   "metadata": {},
   "outputs": [
    {
     "data": {
      "text/html": [
       "<style>#sk-container-id-9 {color: black;background-color: white;}#sk-container-id-9 pre{padding: 0;}#sk-container-id-9 div.sk-toggleable {background-color: white;}#sk-container-id-9 label.sk-toggleable__label {cursor: pointer;display: block;width: 100%;margin-bottom: 0;padding: 0.3em;box-sizing: border-box;text-align: center;}#sk-container-id-9 label.sk-toggleable__label-arrow:before {content: \"▸\";float: left;margin-right: 0.25em;color: #696969;}#sk-container-id-9 label.sk-toggleable__label-arrow:hover:before {color: black;}#sk-container-id-9 div.sk-estimator:hover label.sk-toggleable__label-arrow:before {color: black;}#sk-container-id-9 div.sk-toggleable__content {max-height: 0;max-width: 0;overflow: hidden;text-align: left;background-color: #f0f8ff;}#sk-container-id-9 div.sk-toggleable__content pre {margin: 0.2em;color: black;border-radius: 0.25em;background-color: #f0f8ff;}#sk-container-id-9 input.sk-toggleable__control:checked~div.sk-toggleable__content {max-height: 200px;max-width: 100%;overflow: auto;}#sk-container-id-9 input.sk-toggleable__control:checked~label.sk-toggleable__label-arrow:before {content: \"▾\";}#sk-container-id-9 div.sk-estimator input.sk-toggleable__control:checked~label.sk-toggleable__label {background-color: #d4ebff;}#sk-container-id-9 div.sk-label input.sk-toggleable__control:checked~label.sk-toggleable__label {background-color: #d4ebff;}#sk-container-id-9 input.sk-hidden--visually {border: 0;clip: rect(1px 1px 1px 1px);clip: rect(1px, 1px, 1px, 1px);height: 1px;margin: -1px;overflow: hidden;padding: 0;position: absolute;width: 1px;}#sk-container-id-9 div.sk-estimator {font-family: monospace;background-color: #f0f8ff;border: 1px dotted black;border-radius: 0.25em;box-sizing: border-box;margin-bottom: 0.5em;}#sk-container-id-9 div.sk-estimator:hover {background-color: #d4ebff;}#sk-container-id-9 div.sk-parallel-item::after {content: \"\";width: 100%;border-bottom: 1px solid gray;flex-grow: 1;}#sk-container-id-9 div.sk-label:hover label.sk-toggleable__label {background-color: #d4ebff;}#sk-container-id-9 div.sk-serial::before {content: \"\";position: absolute;border-left: 1px solid gray;box-sizing: border-box;top: 0;bottom: 0;left: 50%;z-index: 0;}#sk-container-id-9 div.sk-serial {display: flex;flex-direction: column;align-items: center;background-color: white;padding-right: 0.2em;padding-left: 0.2em;position: relative;}#sk-container-id-9 div.sk-item {position: relative;z-index: 1;}#sk-container-id-9 div.sk-parallel {display: flex;align-items: stretch;justify-content: center;background-color: white;position: relative;}#sk-container-id-9 div.sk-item::before, #sk-container-id-9 div.sk-parallel-item::before {content: \"\";position: absolute;border-left: 1px solid gray;box-sizing: border-box;top: 0;bottom: 0;left: 50%;z-index: -1;}#sk-container-id-9 div.sk-parallel-item {display: flex;flex-direction: column;z-index: 1;position: relative;background-color: white;}#sk-container-id-9 div.sk-parallel-item:first-child::after {align-self: flex-end;width: 50%;}#sk-container-id-9 div.sk-parallel-item:last-child::after {align-self: flex-start;width: 50%;}#sk-container-id-9 div.sk-parallel-item:only-child::after {width: 0;}#sk-container-id-9 div.sk-dashed-wrapped {border: 1px dashed gray;margin: 0 0.4em 0.5em 0.4em;box-sizing: border-box;padding-bottom: 0.4em;background-color: white;}#sk-container-id-9 div.sk-label label {font-family: monospace;font-weight: bold;display: inline-block;line-height: 1.2em;}#sk-container-id-9 div.sk-label-container {text-align: center;}#sk-container-id-9 div.sk-container {/* jupyter's `normalize.less` sets `[hidden] { display: none; }` but bootstrap.min.css set `[hidden] { display: none !important; }` so we also need the `!important` here to be able to override the default hidden behavior on the sphinx rendered scikit-learn.org. See: https://github.com/scikit-learn/scikit-learn/issues/21755 */display: inline-block !important;position: relative;}#sk-container-id-9 div.sk-text-repr-fallback {display: none;}</style><div id=\"sk-container-id-9\" class=\"sk-top-container\"><div class=\"sk-text-repr-fallback\"><pre>DecisionTreeClassifier()</pre><b>In a Jupyter environment, please rerun this cell to show the HTML representation or trust the notebook. <br />On GitHub, the HTML representation is unable to render, please try loading this page with nbviewer.org.</b></div><div class=\"sk-container\" hidden><div class=\"sk-item\"><div class=\"sk-estimator sk-toggleable\"><input class=\"sk-toggleable__control sk-hidden--visually\" id=\"sk-estimator-id-9\" type=\"checkbox\" checked><label for=\"sk-estimator-id-9\" class=\"sk-toggleable__label sk-toggleable__label-arrow\">DecisionTreeClassifier</label><div class=\"sk-toggleable__content\"><pre>DecisionTreeClassifier()</pre></div></div></div></div></div>"
      ],
      "text/plain": [
       "DecisionTreeClassifier()"
      ]
     },
     "execution_count": 91,
     "metadata": {},
     "output_type": "execute_result"
    }
   ],
   "source": [
    "from sklearn.tree import DecisionTreeClassifier  \n",
    "dt = DecisionTreeClassifier()  \n",
    "dt.fit(xv_train, y_train)  "
   ]
  },
  {
   "cell_type": "code",
   "execution_count": 92,
   "id": "ba195c37-06b6-4bfb-b9c1-53d523e6259a",
   "metadata": {},
   "outputs": [
    {
     "data": {
      "text/plain": [
       "0.9958778966131907"
      ]
     },
     "execution_count": 92,
     "metadata": {},
     "output_type": "execute_result"
    }
   ],
   "source": [
    "pred_dt = dt.predict(xv_test)  \n",
    "dt.score(xv_test, y_test)  "
   ]
  },
  {
   "cell_type": "code",
   "execution_count": 93,
   "id": "88e541c1-3d5b-4bcf-9eba-f4d5efd46482",
   "metadata": {},
   "outputs": [
    {
     "name": "stdout",
     "output_type": "stream",
     "text": [
      "              precision    recall  f1-score   support\n",
      "\n",
      "           0       1.00      1.00      1.00      4651\n",
      "           1       1.00      1.00      1.00      4325\n",
      "\n",
      "    accuracy                           1.00      8976\n",
      "   macro avg       1.00      1.00      1.00      8976\n",
      "weighted avg       1.00      1.00      1.00      8976\n",
      "\n"
     ]
    }
   ],
   "source": [
    "print(classification_report(y_test, pred_dt))  "
   ]
  },
  {
   "cell_type": "markdown",
   "id": "3cf9e661-3822-49f4-9cfd-ac24fb1f678e",
   "metadata": {},
   "source": [
    "### Gradient Boosting Classifier"
   ]
  },
  {
   "cell_type": "code",
   "execution_count": 94,
   "id": "7fbb5d2a-3799-432e-b391-6480c20cf080",
   "metadata": {},
   "outputs": [
    {
     "data": {
      "text/html": [
       "<style>#sk-container-id-10 {color: black;background-color: white;}#sk-container-id-10 pre{padding: 0;}#sk-container-id-10 div.sk-toggleable {background-color: white;}#sk-container-id-10 label.sk-toggleable__label {cursor: pointer;display: block;width: 100%;margin-bottom: 0;padding: 0.3em;box-sizing: border-box;text-align: center;}#sk-container-id-10 label.sk-toggleable__label-arrow:before {content: \"▸\";float: left;margin-right: 0.25em;color: #696969;}#sk-container-id-10 label.sk-toggleable__label-arrow:hover:before {color: black;}#sk-container-id-10 div.sk-estimator:hover label.sk-toggleable__label-arrow:before {color: black;}#sk-container-id-10 div.sk-toggleable__content {max-height: 0;max-width: 0;overflow: hidden;text-align: left;background-color: #f0f8ff;}#sk-container-id-10 div.sk-toggleable__content pre {margin: 0.2em;color: black;border-radius: 0.25em;background-color: #f0f8ff;}#sk-container-id-10 input.sk-toggleable__control:checked~div.sk-toggleable__content {max-height: 200px;max-width: 100%;overflow: auto;}#sk-container-id-10 input.sk-toggleable__control:checked~label.sk-toggleable__label-arrow:before {content: \"▾\";}#sk-container-id-10 div.sk-estimator input.sk-toggleable__control:checked~label.sk-toggleable__label {background-color: #d4ebff;}#sk-container-id-10 div.sk-label input.sk-toggleable__control:checked~label.sk-toggleable__label {background-color: #d4ebff;}#sk-container-id-10 input.sk-hidden--visually {border: 0;clip: rect(1px 1px 1px 1px);clip: rect(1px, 1px, 1px, 1px);height: 1px;margin: -1px;overflow: hidden;padding: 0;position: absolute;width: 1px;}#sk-container-id-10 div.sk-estimator {font-family: monospace;background-color: #f0f8ff;border: 1px dotted black;border-radius: 0.25em;box-sizing: border-box;margin-bottom: 0.5em;}#sk-container-id-10 div.sk-estimator:hover {background-color: #d4ebff;}#sk-container-id-10 div.sk-parallel-item::after {content: \"\";width: 100%;border-bottom: 1px solid gray;flex-grow: 1;}#sk-container-id-10 div.sk-label:hover label.sk-toggleable__label {background-color: #d4ebff;}#sk-container-id-10 div.sk-serial::before {content: \"\";position: absolute;border-left: 1px solid gray;box-sizing: border-box;top: 0;bottom: 0;left: 50%;z-index: 0;}#sk-container-id-10 div.sk-serial {display: flex;flex-direction: column;align-items: center;background-color: white;padding-right: 0.2em;padding-left: 0.2em;position: relative;}#sk-container-id-10 div.sk-item {position: relative;z-index: 1;}#sk-container-id-10 div.sk-parallel {display: flex;align-items: stretch;justify-content: center;background-color: white;position: relative;}#sk-container-id-10 div.sk-item::before, #sk-container-id-10 div.sk-parallel-item::before {content: \"\";position: absolute;border-left: 1px solid gray;box-sizing: border-box;top: 0;bottom: 0;left: 50%;z-index: -1;}#sk-container-id-10 div.sk-parallel-item {display: flex;flex-direction: column;z-index: 1;position: relative;background-color: white;}#sk-container-id-10 div.sk-parallel-item:first-child::after {align-self: flex-end;width: 50%;}#sk-container-id-10 div.sk-parallel-item:last-child::after {align-self: flex-start;width: 50%;}#sk-container-id-10 div.sk-parallel-item:only-child::after {width: 0;}#sk-container-id-10 div.sk-dashed-wrapped {border: 1px dashed gray;margin: 0 0.4em 0.5em 0.4em;box-sizing: border-box;padding-bottom: 0.4em;background-color: white;}#sk-container-id-10 div.sk-label label {font-family: monospace;font-weight: bold;display: inline-block;line-height: 1.2em;}#sk-container-id-10 div.sk-label-container {text-align: center;}#sk-container-id-10 div.sk-container {/* jupyter's `normalize.less` sets `[hidden] { display: none; }` but bootstrap.min.css set `[hidden] { display: none !important; }` so we also need the `!important` here to be able to override the default hidden behavior on the sphinx rendered scikit-learn.org. See: https://github.com/scikit-learn/scikit-learn/issues/21755 */display: inline-block !important;position: relative;}#sk-container-id-10 div.sk-text-repr-fallback {display: none;}</style><div id=\"sk-container-id-10\" class=\"sk-top-container\"><div class=\"sk-text-repr-fallback\"><pre>GradientBoostingClassifier(random_state=0)</pre><b>In a Jupyter environment, please rerun this cell to show the HTML representation or trust the notebook. <br />On GitHub, the HTML representation is unable to render, please try loading this page with nbviewer.org.</b></div><div class=\"sk-container\" hidden><div class=\"sk-item\"><div class=\"sk-estimator sk-toggleable\"><input class=\"sk-toggleable__control sk-hidden--visually\" id=\"sk-estimator-id-10\" type=\"checkbox\" checked><label for=\"sk-estimator-id-10\" class=\"sk-toggleable__label sk-toggleable__label-arrow\">GradientBoostingClassifier</label><div class=\"sk-toggleable__content\"><pre>GradientBoostingClassifier(random_state=0)</pre></div></div></div></div></div>"
      ],
      "text/plain": [
       "GradientBoostingClassifier(random_state=0)"
      ]
     },
     "execution_count": 94,
     "metadata": {},
     "output_type": "execute_result"
    }
   ],
   "source": [
    "from sklearn.ensemble import GradientBoostingClassifier  \n",
    "gbc = GradientBoostingClassifier(random_state=0)  \n",
    "gbc.fit(xv_train, y_train)  "
   ]
  },
  {
   "cell_type": "code",
   "execution_count": 95,
   "id": "cf993a8e-7613-4471-afc5-d7e2f27d5e80",
   "metadata": {},
   "outputs": [
    {
     "data": {
      "text/plain": [
       "0.9949866310160428"
      ]
     },
     "execution_count": 95,
     "metadata": {},
     "output_type": "execute_result"
    }
   ],
   "source": [
    "pred_gbc = gbc.predict(xv_test)  \n",
    "gbc.score(xv_test, y_test)"
   ]
  },
  {
   "cell_type": "code",
   "execution_count": 96,
   "id": "ed98b29d-65b2-4d8d-b578-f8678e8143ff",
   "metadata": {},
   "outputs": [
    {
     "name": "stdout",
     "output_type": "stream",
     "text": [
      "              precision    recall  f1-score   support\n",
      "\n",
      "           0       1.00      0.99      1.00      4651\n",
      "           1       0.99      1.00      0.99      4325\n",
      "\n",
      "    accuracy                           0.99      8976\n",
      "   macro avg       0.99      1.00      0.99      8976\n",
      "weighted avg       0.99      0.99      0.99      8976\n",
      "\n"
     ]
    }
   ],
   "source": [
    "print(classification_report(y_test, pred_gbc))  "
   ]
  },
  {
   "cell_type": "markdown",
   "id": "4756e5b8-a668-451f-8bfd-752521a82a41",
   "metadata": {},
   "source": [
    "### Random Forest Classifier"
   ]
  },
  {
   "cell_type": "code",
   "execution_count": 97,
   "id": "3d731558-1fbc-4b83-8ec0-c8c221f8d0c4",
   "metadata": {},
   "outputs": [
    {
     "data": {
      "text/html": [
       "<style>#sk-container-id-11 {color: black;background-color: white;}#sk-container-id-11 pre{padding: 0;}#sk-container-id-11 div.sk-toggleable {background-color: white;}#sk-container-id-11 label.sk-toggleable__label {cursor: pointer;display: block;width: 100%;margin-bottom: 0;padding: 0.3em;box-sizing: border-box;text-align: center;}#sk-container-id-11 label.sk-toggleable__label-arrow:before {content: \"▸\";float: left;margin-right: 0.25em;color: #696969;}#sk-container-id-11 label.sk-toggleable__label-arrow:hover:before {color: black;}#sk-container-id-11 div.sk-estimator:hover label.sk-toggleable__label-arrow:before {color: black;}#sk-container-id-11 div.sk-toggleable__content {max-height: 0;max-width: 0;overflow: hidden;text-align: left;background-color: #f0f8ff;}#sk-container-id-11 div.sk-toggleable__content pre {margin: 0.2em;color: black;border-radius: 0.25em;background-color: #f0f8ff;}#sk-container-id-11 input.sk-toggleable__control:checked~div.sk-toggleable__content {max-height: 200px;max-width: 100%;overflow: auto;}#sk-container-id-11 input.sk-toggleable__control:checked~label.sk-toggleable__label-arrow:before {content: \"▾\";}#sk-container-id-11 div.sk-estimator input.sk-toggleable__control:checked~label.sk-toggleable__label {background-color: #d4ebff;}#sk-container-id-11 div.sk-label input.sk-toggleable__control:checked~label.sk-toggleable__label {background-color: #d4ebff;}#sk-container-id-11 input.sk-hidden--visually {border: 0;clip: rect(1px 1px 1px 1px);clip: rect(1px, 1px, 1px, 1px);height: 1px;margin: -1px;overflow: hidden;padding: 0;position: absolute;width: 1px;}#sk-container-id-11 div.sk-estimator {font-family: monospace;background-color: #f0f8ff;border: 1px dotted black;border-radius: 0.25em;box-sizing: border-box;margin-bottom: 0.5em;}#sk-container-id-11 div.sk-estimator:hover {background-color: #d4ebff;}#sk-container-id-11 div.sk-parallel-item::after {content: \"\";width: 100%;border-bottom: 1px solid gray;flex-grow: 1;}#sk-container-id-11 div.sk-label:hover label.sk-toggleable__label {background-color: #d4ebff;}#sk-container-id-11 div.sk-serial::before {content: \"\";position: absolute;border-left: 1px solid gray;box-sizing: border-box;top: 0;bottom: 0;left: 50%;z-index: 0;}#sk-container-id-11 div.sk-serial {display: flex;flex-direction: column;align-items: center;background-color: white;padding-right: 0.2em;padding-left: 0.2em;position: relative;}#sk-container-id-11 div.sk-item {position: relative;z-index: 1;}#sk-container-id-11 div.sk-parallel {display: flex;align-items: stretch;justify-content: center;background-color: white;position: relative;}#sk-container-id-11 div.sk-item::before, #sk-container-id-11 div.sk-parallel-item::before {content: \"\";position: absolute;border-left: 1px solid gray;box-sizing: border-box;top: 0;bottom: 0;left: 50%;z-index: -1;}#sk-container-id-11 div.sk-parallel-item {display: flex;flex-direction: column;z-index: 1;position: relative;background-color: white;}#sk-container-id-11 div.sk-parallel-item:first-child::after {align-self: flex-end;width: 50%;}#sk-container-id-11 div.sk-parallel-item:last-child::after {align-self: flex-start;width: 50%;}#sk-container-id-11 div.sk-parallel-item:only-child::after {width: 0;}#sk-container-id-11 div.sk-dashed-wrapped {border: 1px dashed gray;margin: 0 0.4em 0.5em 0.4em;box-sizing: border-box;padding-bottom: 0.4em;background-color: white;}#sk-container-id-11 div.sk-label label {font-family: monospace;font-weight: bold;display: inline-block;line-height: 1.2em;}#sk-container-id-11 div.sk-label-container {text-align: center;}#sk-container-id-11 div.sk-container {/* jupyter's `normalize.less` sets `[hidden] { display: none; }` but bootstrap.min.css set `[hidden] { display: none !important; }` so we also need the `!important` here to be able to override the default hidden behavior on the sphinx rendered scikit-learn.org. See: https://github.com/scikit-learn/scikit-learn/issues/21755 */display: inline-block !important;position: relative;}#sk-container-id-11 div.sk-text-repr-fallback {display: none;}</style><div id=\"sk-container-id-11\" class=\"sk-top-container\"><div class=\"sk-text-repr-fallback\"><pre>RandomForestClassifier(random_state=0)</pre><b>In a Jupyter environment, please rerun this cell to show the HTML representation or trust the notebook. <br />On GitHub, the HTML representation is unable to render, please try loading this page with nbviewer.org.</b></div><div class=\"sk-container\" hidden><div class=\"sk-item\"><div class=\"sk-estimator sk-toggleable\"><input class=\"sk-toggleable__control sk-hidden--visually\" id=\"sk-estimator-id-11\" type=\"checkbox\" checked><label for=\"sk-estimator-id-11\" class=\"sk-toggleable__label sk-toggleable__label-arrow\">RandomForestClassifier</label><div class=\"sk-toggleable__content\"><pre>RandomForestClassifier(random_state=0)</pre></div></div></div></div></div>"
      ],
      "text/plain": [
       "RandomForestClassifier(random_state=0)"
      ]
     },
     "execution_count": 97,
     "metadata": {},
     "output_type": "execute_result"
    }
   ],
   "source": [
    "from sklearn.ensemble import RandomForestClassifier  \n",
    "rfc = RandomForestClassifier(random_state=0)  \n",
    "rfc.fit(xv_train, y_train)  "
   ]
  },
  {
   "cell_type": "code",
   "execution_count": 98,
   "id": "d6b4c40e-6fea-4b23-963f-62bfd0be4872",
   "metadata": {},
   "outputs": [
    {
     "data": {
      "text/plain": [
       "0.9887477718360071"
      ]
     },
     "execution_count": 98,
     "metadata": {},
     "output_type": "execute_result"
    }
   ],
   "source": [
    "pred_rfc = rfc.predict(xv_test)  \n",
    "rfc.score(xv_test, y_test)  "
   ]
  },
  {
   "cell_type": "code",
   "execution_count": 99,
   "id": "cf009a62-40a6-4a38-8650-20ab97c105e4",
   "metadata": {},
   "outputs": [
    {
     "name": "stdout",
     "output_type": "stream",
     "text": [
      "              precision    recall  f1-score   support\n",
      "\n",
      "           0       0.99      0.99      0.99      4651\n",
      "           1       0.99      0.99      0.99      4325\n",
      "\n",
      "    accuracy                           0.99      8976\n",
      "   macro avg       0.99      0.99      0.99      8976\n",
      "weighted avg       0.99      0.99      0.99      8976\n",
      "\n"
     ]
    }
   ],
   "source": [
    "print(classification_report(y_test, pred_rfc))  "
   ]
  },
  {
   "cell_type": "markdown",
   "id": "f345790a-280b-4383-8045-792c832202cd",
   "metadata": {},
   "source": [
    "### Manual model testing"
   ]
  },
  {
   "cell_type": "code",
   "execution_count": 101,
   "id": "d25e8149-aefd-46b8-9222-d10c965439a6",
   "metadata": {},
   "outputs": [
    {
     "name": "stdin",
     "output_type": "stream",
     "text": [
      " Patrick Henningsen  21st Century WireRemember when the Obama Administration told the world how it hoped to identify 5,000 reliable non-jihadist  moderate  rebels hanging out in Turkey and Jordan, who might want to fight for Washington in Syria? After all the drama over its infamous  train and equip  program to create their own Arab army in Syria, they want to give it another try.This week, Pentagon officials announced their new plan to train up to 7,000 more  moderate  fighters, but this time the project would take place inside Syria (and to hell with international law).We re told that this was requested by Ankara, and with all NATO allies singing the same hymn   claiming that this new effort will help in securing Turkey s porous border with Syria, or so the story goes. Washington s political cover for this is fashioned from the popular post-Paris theme: to protect civilized Europe from invading hordes and the terrorists who hide among them, as stated in the Wall Street Journal: The program would address part of the tense and long-running dialogue between Washington and Ankara over sealing the border, which Western governments have long complained is an avenue for extremists to leave Syria and travel internationally, The timing of this announcement seemed uncanny against the backdrop of an unlikely ISIS  suicide bomb  terrorist attack, in Turkey, of all places, where the victims just happened to be 14 German tourists, feeding perfectly into Europe s new binary fear set of terrorism and immigration. Shades of GLADIO, undoubtedly (but you won t see western journalists entertaining such conspiracy theories).Our friends at Nation Builders Inc are banking on the global public suffering from Syria fatigue, but now is the time to really pay attention. The west s real agenda for the region is starting to unfold Despite all of US-led Coalition s scandals, lies, epic failures, false flags and official conspiracy theories, the mainstream narrative on Syria persists. It s on our TV screens and in our newspapers constantly   from Los Angeles to London, from Paris to Riyadh, every politician and pundit seems to have an opinion about,  what to do with Syria?  Everyone, except the Syria people  themselves, who like the people of Iraq, Libya, Afghanistan, Yemen and ever other country that s found itself under the cleaver of western interests   are never afforded any say in their own destiny. As is tradition in Washington, London and Paris, the only Syrian voices which count are the ones who have been hand-picked by western technocrats and approved by the Saudi royal family to form their ever-changing  recognized  government-in-exile, the Syrian National Council. Currently, that could be Riad Hijab,  George Sabra or Khaled Khoja. Next week, it could be three others, depending on who has fallen in, or out of favor with Washington or Riyadh.To anyone who was listening close enough early on in the conflict, you would have heard determined members of the western-backed  Syrian Opposition  admitting how they would,  make a deal with the devil if that s what it takes to win power.  Four years later, we now see that is exactly what happened, but whether you believe that this  devil is US-led Coalition, or terrorist armies fighting groups (or both) might be cause for debate. Others will argue over which is the bigger devil   is it the Wahabist-Salafist terrorist brigades like al Nusra Front and Islamic State, or is it the West and its GCC partners?The unfortunate reality is that these two devils are not mutually exclusive. The West and its partners not only created this  terror  crisis, but did so with the intent of unveiling a grand  solution  to the problem.Plans A-ZThe terrorist enclave in Syria is designed for purpose   to implant a hostile metastasis right in the middle of the very territory which neocolonial powers plan to tear away from the barely sovereign nations of Iraq and Syria.Since 2011, the western-led cartel has deployed various levels of international subterfuge in Syria, starting with Plan A: the Arab Spring method   igniting a popular street uprising that might capture the world s attention for 15 minutes   enough to generate some high-quality evocative imagery and a social media storm to carry memes of liberty around the globe, inspiring the people on the streets (and on Twitter) to demand  change . Their cries for freedom would then be backed up by the US State Department, along with its functionaries at Human Rights Watch and Amnesty International America, and other Open Society Institute-funded NGOs and  human rights  organizations. Obviously, this did not work. Next, Plan B: the political opposition suddenly transcended into an armed, paramilitary opposition, followed by brutal violence and killing on both sides. The US and its allies wasted no time, pledging weapons, training, cash and logistical support to the armed opposition. The west set up its own parallel government for Syria abroad, but it failed to gain any traction with the Syria people. Then came Plan C: this  opposition  would be quickly overrun and absorbed into a massive array of mostly foreign jihadi and mercenary soldiers of misfortune and other assorted terrorists. This fed into an already established  War on Terror  western narrative. Now the west had a familiar entry point into the fight. The Washington-London-Paris-Tel-Aviv-Riyadh-Doha-Ankara Axis hoped that these terrorists would do the job of overthrowing the government of Bashar al Assad in Damascus, and collapse the country into a spirally pit of sectarian and tribal chaos. Who could blame them? After all, it worked in Libya in late 2011.Fast forward to 2016, having failed to overthrow Assad and implode the nation-state of Syria, the men and women of Nation Builders Inc and their muscles in Brussels (NATO), are quickly moving to Plan D: take territory. That s not to say plans A through D weren t always in the schematics   they certainly were, and further back than many people would dare to speculate.We now know from Wikileaks cables that this operation goes back to at least 2006, but in reality, it s probably much earlier than that. Taking the long view of history and the audacious building, and rebuilding, of a Euro-centric empire in the Middle East, one could say the process began the day the Sykes-Picot Agreement was signed in 1916. Concealed between those post-colonial lines drawn exactly 100 years ago, was the latent potential for the very conflicts and uncivil wars we are seeing today. If those borders are redrawn once again, you can be certain that they will be drawn by the very same powers involved a century ago. Whatever the arrangement, it will be to weaken, not strengthen the region, and certainly not strengthen any of the present nation states in the region, especially Syria. Proprietary powers will want any new states to be stuck in a perpetual state of neocolonial dependency, with an emphasis on financial and security dependency.Mice and Men21WIRE was one of the first news sources to warn about Washington s initial impulse back in 2014 when it began calling for a  No Fly Zone  in Northern Syria. It was clear that a problem, reaction, solution dialectic was in play, with ISIS being the object of the public s reaction. That plan might have come to fruition in the fall of 2015, but a funny thing happened on the way to the UN General Assembly in New York City. Later that week, Russia announced that it would be inserting itself, and its Air Force, into the Syrian quagmire, and with that, thwarted any master plan for a US-Turkey (NATO) controlled No Fly Zone along the Turkish-Syrian border. Suffice to say, that Russia already knew NATO s next move and acted accordingly, and with purpose.When asked two days ago about the prospect of the Washington DC latest brainchild, Train and Equip 2.0, this time inside Syria, here were my initial thoughts: We now know why, and it has more to do with what s beneath the sand than what s on top.As any good pirate will tell you   if you want to claim your share of the booty, you have to do your share of the killing. The Truth About  Train and Equip The previous  train and equip  program ended with Washington s military brass paraded in front of the Senate Armed Services Committee, before being roundly lambasted for failing to train even a handful of  moderate rebels , this after being awarded $500 million by the US taxpayer to get er done. When originally announced amid much fanfare, the public were told that the US government, in conjunction with the CIA, would be arming and training  moderate  militants in Turkey, Jordan or at a base in Saudi Arabia   before sending them to fight inside Syria. Washington claims that these new trainees were meant to fight ISIS, and not the Syrian government forces, but judging by the unwavering  regime change  rhetoric from the west, it would be highly naive to think that all this was strictly for ISIS.Nine months into the train and equip project, US Army Gen. Lloyd Austin III, acknowledged in Sept. 2015 that they had only managed to get  four or five  on the battlefield by then. Not one member of the media challenged this statement, probably because most were happy with the answer given   one which gave any hawkish critics of the Obama administration the pound of flesh they wanted and served to only intensify more calls before the new year for US  boots on the ground  in Syria. Doves loved it because it seemed to prove that backing proxies doesn t work, and that the best solution was to call it quits. For the sanguine mainstream media, it served-up that all-too familiar government narrative, of a  cock-up, not a cover-up.  This is the media s natural default position. In other words,  Well, it didn t work out, but that s nothing new with our incompetent government. Nothing to see here, move along.  To ask how the money disappeared, or really inquire into how it costs $500 million to train only five men   apparently was way too much work for the media. Not one  journalist  stopped to ask, if only 5 fighters were trained and dispatched, then what happened to the half a billion dollars?The real answer to that question should be self-evident to anyone studying reports on the ground in Syria, and is way too uncomfortable for the US media to stomach   that the US  train and equip  program provided the necessary official cover to allow the prosecution of a dirty war under the table. It wasn t a failure like fall guy Gen. Lloyd Austin will have you believe, it was a success.Judging by the proliferation of heavy weaponry and other lethal arms that have made it into the hands of al Qaeda in Syria (al Nusra Front), ISIS, Jaysh al Islam and others   it s clear that Uncle Sam s generous donation of $500 million has definitely been used to equip, if not train, those  rebels  in Syria.Middle East commentator and analyst Sharmine Narwani explains the West s perennial dilemma when trying to identify who their  moderates  are in Syria: For years, Washington has insisted there are armed  moderate  groups in Syria, but have gone to great lengths to avoid naming these  moderates.  Why? Because if moderates were named and identified, the US would have to be very, very certain that no past, present or future  atrocity video  would surface to prove otherwise. And the US could not guarantee this with any of the groups they have armed, trained or financed in Syria over the past five years. The next  train and equip  round will be more focused, and will be used to secure the following  The map above is from July 2015, but still represents the current military chessboard in Syria.Safe Zone =  Sunnistan Somehow it feels like 1998 all over again, with bad memories of the KLA in Kosovo, imported jihadist fighters in Bosnia, and NATO lording over a newly balkanized region.When you hear US officials like John McCain or clueless Republican presidential candidates like Marco Rubio or Carly Fiorina, all crowing for a  Safe Zone  in northern Syria, this is what they are referring to (see map above). Their  safe zone  just so happens to be in the exact same area where ISIS is currently holding court. It s a  safe zone  alright, but not for refugees and  Syrians fleeing the evil Bashar al Assad    rather, the  safe zone  will be for an array of  rebel  and terrorist fighters, part of a defacto Sunni state-lette in waiting.So the US-led Coalition s  safe zone  is the very Caliphate that Americans are decrying.For anyone requiring proof that such a grand chessboard is in play in Syria, they need look no further than a set of US airstrikes that took place before Christmas. On December 6, 2015,  US fighter bombers struck a Syrian military base located in the village of Ayyash in Deir Ezzor Province, east of Raqqa, which killed 3 Syrian Arab Army (SAA) soldiers and wounded additional others. Naturally, the Pentagon swiftly denied that any such attack took place. What happened after this incident was extremely telling, as explained by global affairs analyst Mike Whitney from Counterpunch Magazine: It s also worth noting, that according to South Front military analysis, the US bombing raid coincided with a  a full-scale ISIS offensive on the villages of Ayyash and Bgelia.  In other words, the US attack provided sufficient air-cover for ISIS terrorists to carry out their ground operations. Was that part of the plan or was it merely a coincidence? So the US air force was coordinating with ISIS boots on the ground, to achieve a common military objective. But it didn t end there. Less than 24 hours after the attack, US warplanes bombed the village of Al-Khan in north-eastern Syria killing 26 Syrian civilians including at least four women and seven children and four women. The message the US military is sending with these lethal attacks is that it wants to control the air-space over east Syria where it plans to remove ISIS and establish a de facto Sunni state consistent with its scheme to break Syria and Iraq into smaller cantons governed by local warlords, Islamic fanatics, and US puppets. Also taking place at the same moment on Dec 6th, was Turkey s quiet little invasion into northern Iraq, sending hundreds of troops and at least 20 tanks into territory north of Mosul, right between the Kurds and ISIS. It should be noted that this illegal incursion by NATO member Turkey was not approved by the Iraqi government in Baghdad, and Iraqi PM Haider al-Abadi called for Turkey to  immediately withdraw its troops.  Judging by Washington s silence on the matter, it s obvious that the US gave Turkey its full blessing. Here, Zero Hedge astutely points out the obvious: Most importantly of all, right on what Al-Araby al-Jadeed claims is the smuggling route for illegal ISIS crude into Turkey from Iraq.  Not surprisingly, Turkey s sudden move also came at the same time that Russia began to publicly expose Turkey s clandestine role in facilitating the ISIS oil trade, as well as launching airstrikes to destroy ISIS oil convoys moving from Syria into Turkey. And then Turkish leader Recep Tayyip Erdo an (photo, left) places his military assets at the very location where stolen ISIS oil makes its way from Iraq into Turkey? Hardly a coincidence.Make no mistake, both ends of NATO s military axle, the United States and Turkey, along with their Saudi-backed boots on the ground in ISIS and al Nusra   have each made critical strategic moves in unison, and with a specific military purpose each time, nudging towards securing territory. Once each key piece is finally in position, all that is required is a new  crisis , either in the region, or in Europe, or in America   to allow the Axis powers to move in quickly and take what is needed to implement the next phase of the game, whether that s creating a Kurdish canton, or a Sunni state-lette. Such moves will rarely be covered by the western international media.To be perfectly clear, the terms  Sunni  and  Shia  are the favored sectarian lexicon used by Nation Builders Inc and its international partners in Riyadh and Tel Aviv. My intention here is not to reduce the Muslim world down to this paradigm, but the architects of instability will use these terms, over and over   in their attempt to both marginalize and dehumanized Muslims for their own selfish ends.What s the  safe zone  for? As the US-led Coalition steps up its 18 month-long Punch  n Judy air operation to supplant ISIS from Raqqa, those western-backed jihadis will later require a safe corridor to flee but still remain connected to their Turkish supply lines. Washington s  safe zone  would also provide a much-needed safe haven for  rebels  who have been sent packing by the Syrian government from towns like Homs and others, as part of a painstaking disarming and reconciliation process between the Assad government and  opposition  rebels who are willing to participate in the program. Once the NATO-GCC Axis has established a mini protectorate inside of Syria, this will provide everything ISIS, al Nusra, Ahrar al-Sham, Turkmens et all will need; a secure launching pad for incursions further inside Syria   which will certainly guarantee a longer, protracted conflict in Syria   and beyond.This little Sunni wedge is also conveniently located next to a large rebel-terrorist contingent in Syria s northwestern Idlib governorate (province). Syria s border with Turkey has been porous from the beginning of the conflict, so the proposed  safe zone  will allow Turkey to maintain this status quo   where it has been continuously allowing the free-flow of weapons, rebels and terrorist fighters alike, along with oil, narcotics and human trafficking   to move freely through its southern border with Syria.If  regime  change  rhetoric is anything to go by, along with turning a blind eye to NATO member Turkey s role in facilitating supply lines and safe passage for al Qaeda and ISIS, then Washington s agenda is fairly transparent here. If they can establish a  internationally recognized  safe zone and a No-Fly Zone on top of it, central planners believe they will have the platform they need to eventually destroy Damascus, install their own western puppet, and then carve up Syria and northern Iraq accordingly. ISIS RAT-LINES: Black market oil has been a key component to carrying on both conflicts in Syria, and Iraq.For the architects of instability in Washington, one crucial benefit of carving out Sunni territory in both northern and eastern Syria is that available oil will help fund all of their paramilitary and terrorist needs   making it sustainable. To guarantee this uninterrupted income stream from black market oil which is presently making its way out of Syria and into Turkey and via Kurdistan, help is required from the Kurdish Regional Government (KRG) and other stakeholders, including the British-Turkish firm Genel Energy, just one firm who is providing the end-run to market for illicit ISIS oil. Ditto for a key mover and shaker in Raqqa s new Rockefeller class, Bilal Erdogan, the son of Turkish president, who according to numerous recent reports has already amassed a small fortune from the lucrative oil-for-terror trade.This is a problem, but one which Washington, London and Paris are not overly concerned with, much less upset about. Iraqi, Kurdish and Turkish opposition officials have accused Turkish governments and the KRG of deliberately allowing some of these smuggling operations to take place.Even as provisional state-lettes and cantons are conjured around it, there is no guarantee that Greater Kurdistan will ever see the light of day if Nation Builders Inc having anything to say bout it. The promise of Greater Kurdistan is as important to neocolonialists, than the reality of a Greater Kurdistan. Turkey also has its own interests and ambitions, and a Greater Kurdistan is not compatible with them. Iraq is not crazy about the idea either, because of obvious financial and energy resource reasons. So they remain in limb indefinitely, even as smaller quasi-Kurdish entities sprout up around the KRG. Turkey has its own ongoing  Kurdish problem  within Turkish borders, so Ankara will naturally view any expressions of Kurdish autonomy around it as a threat and potential inspiration for international Kurdish solidarity. Ruling over the Kurds means keeping them divided, and playing them off against their neighbors.There are those within the Turkish establishment who believe there are old scores still unsettled   in reclaiming Turk territory in both Syria and Iraq.SEE ALSO: SPECIAL REPORT: ISIS Oil? Follow the Money (Back to Europe)Here is where Sunnistan proper can emerge, coming into its own once set pieces are in place in Iraq and across Kurdistan, as Mike Whitney explained: So it looks like an agreement has been struck between Turkey, the KRG and the United States to seize parts of northern Iraq and eastern Syria to create a de facto Sunni state that will be jointly-controlled by Ankara and Washington.  It also looks like Obama has agreed to use dodgy jihadi-proxies (aka Terrorists) to work alongside US Special Forces to carry out future military operations.  So while the effort to remove Assad has been temporarily put on the backburner, the determination to destroy Syria is as strong as ever.  Another dismembered part of old Syria and Iraq which central planners are hoping to hack-off is an area called Rojava (see map above), or  Western Kurdistan . This region in northern Syria, formerly known as Syrian Kurdistan, gained its autonomy in November 2013 as part of the ongoing Rojava Revolution. The Kurdish defense forces here are known as the YPG (People s Defense Units) and are not on friendly footing with neighboring Turkey, for a number of reasons, not least of all because YPG defense forces present resistance to both al Nusra and ISIS encroachments into all three Rojava cantons. For Turkey, this is bad for business. How Rojava will factor into Washington s plans is not clear yet, but it occupies the most strategic squares on the chessboard.Make no mistake, the history s actors are all in for this plan. Do not be fooled by talk of  peace and stability  or humanitarian platitudes from western leaders, the UN, or the fair weather international community.Another indication that these plans have the full backing of the neoconservative illiterati, and Israel too, was PNAC walrus and former US Ambassador to the UN John Bolton s recent article in the establishment s daily journal of political posterity, the New York Times, where he states: Today s reality is that Iraq and Syria as we have known them are gone. The Islamic State has carved out a new entity from the post-Ottoman Empire settlement, mobilizing Sunni opposition to the regime of President Bashar al-Assad and the Iran-dominated government of Iraq. Also emerging, after years of effort, is a de facto independent Kurdistan. Central planners will happily frame this geopolitical scenario within the preferred theme of Sunni vs Shia  sectarian strife  in the region, which just happens to suit the interests and desires of both Saudi Arabia and Israel. Bolton confirms this: If, in this context, defeating the Islamic State means restoring to power Mr. Assad in Syria and Iran s puppets in Iraq, that outcome is neither feasible nor desirable. Rather than striving to recreate the post-World War I map, Washington should recognize the new geopolitics. The best alternative to the Islamic State in northeastern Syria and western Iraq is a new, independent Sunni state. Not so fast Mr. Ambassador. The Islamic State is the Sunni State.So for all intents and purposes, he s calling for the establishment of the Caliphate (funny how this goes right over the heads of  conservatives ). This is just one of many geostrategic moves which will guarantee instability and military conflict in the region for another 100 years, as well as provide a timely entr e through to Azerbaijan and into Iran, and later towards the Eurasian heartland of Dagestan (Russia s emerging energy center and geographic underbelly).In the meantime, expect to be pelted with endless propaganda about starving children in one town or another, changing week to week   with the usual slogans like,  we must act now! , and blaming Bashar al Assad for the suffering of his people. It s already wearing thin.Until the US and its NATO-GCC Axis stops flooding Syria and the region with weapons and terrorist fighters, and continues its policy of toppling secular nation-states   then any attempt at holding peace talks will end up back at square one, and stand as another exercise in futility.If the Syrian conflict has been good for one thing (and that s not to say it has), it s that the scripted western narrative, in all of its variations, has finally hit the wall of truth.***Author Patrick Henningsen is a writer, lecturer and global affairs analyst for international TV and radio. He is also the founder and co-editor of 21stCenturyWire.com.READ MORE SYRIA NEWS AT: 21st Century Wire Syria Files\n"
     ]
    },
    {
     "name": "stdout",
     "output_type": "stream",
     "text": [
      "\n",
      "\n",
      "LR Prediction: It is a Fake News \n",
      "DT Prediction: It is a Fake News \n",
      "GBC Prediction: It is a Fake News \n",
      "RFC Prediction: It is a Fake News\n"
     ]
    }
   ],
   "source": [
    "def output_lable(n):  \n",
    "    if n == 0:  \n",
    "        return \"It is a Fake News\"  \n",
    "    elif n == 1:  \n",
    "        return \"It is not a Fake News\"  \n",
    "     \n",
    "def manual_testing(news):  \n",
    "    testing_news = {\"text\":[news]}  \n",
    "    new_def_test = pd.DataFrame(testing_news)  \n",
    "    new_def_test[\"text\"] = new_def_test[\"text\"].apply(word_drop)  \n",
    "    new_x_test = new_def_test[\"text\"]  \n",
    "    new_xv_test = vectorization.transform(new_x_test)  \n",
    "    pred_lr = lr.predict(new_xv_test)  \n",
    "    pred_dt = dt.predict(new_xv_test)  \n",
    "    pred_gbc = gbc.predict(new_xv_test)  \n",
    "    pred_rfc = rfc.predict(new_xv_test)  \n",
    "  \n",
    "  \n",
    "    return print(\"\\n\\nLR Prediction: {} \\nDT Prediction: {} \\nGBC Prediction: {} \\nRFC Prediction: {}\".format(output_lable(pred_lr[0]),output_lable(pred_dt[0]),  \n",
    "                                                                                                              output_lable(pred_gbc[0]),  \n",
    "                                                                                                              output_lable(pred_rfc[0])))  \n",
    "  \n",
    "news = str(input())  \n",
    "manual_testing(news)  "
   ]
  },
  {
   "cell_type": "markdown",
   "id": "2878133d-7298-4d1d-9f40-6e71ff52ee49",
   "metadata": {},
   "source": [
    "### Hence,the prediction of news is correct"
   ]
  },
  {
   "cell_type": "markdown",
   "id": "ada44474-1698-4498-a32a-a29e12a3efc0",
   "metadata": {},
   "source": [
    "### lets try another input which is not a fake news and analyze the prediction:-"
   ]
  },
  {
   "cell_type": "code",
   "execution_count": 103,
   "id": "a002fd0a-a0fb-4003-945f-d5305125c2fb",
   "metadata": {},
   "outputs": [
    {
     "name": "stdin",
     "output_type": "stream",
     "text": [
      " MOSCOW (Reuters) - Vatican Secretary of State Cardinal Pietro Parolin said on Tuesday that there was  positive momentum  behind the idea of Pope Francis visiting Russia, but suggested there was more work to be done if it were to happen.  Parolin, speaking at a joint news conference in Moscow alongside Russian Foreign Minister Sergei Lavrov, did not give any date for such a possible visit. The Eastern and Western branches of Christianity split apart in 1054. The pope, leader of the world s 1.2 billion Catholics, is seeking to improve ties, and last year in Cuba held what was the first ever meeting between a Roman Catholic pope and a Russian Orthodox patriarch.  Parolin said he had also used his talks in the Russian capital to also raise certain difficulties faced by the Catholic Church in Russia. He said that Moscow and the Vatican disagreed about the plight of Christians in certain parts of the world. He did not elaborate. Parolin, who is due later on Tuesday to meet Patriarch Kirill, the head of the Russian Orthodox Church, said he also believed Russia could play an important role when it came to helping solve a crisis in Venezuela because of its close relations with Caracas.    \n"
     ]
    },
    {
     "name": "stdout",
     "output_type": "stream",
     "text": [
      "\n",
      "\n",
      "LR Prediction: It is not a Fake News \n",
      "DT Prediction: It is not a Fake News \n",
      "GBC Prediction: It is not a Fake News \n",
      "RFC Prediction: It is not a Fake News\n"
     ]
    }
   ],
   "source": [
    "news = str(input())  \n",
    "manual_testing(news)  "
   ]
  },
  {
   "cell_type": "markdown",
   "id": "bf82ef67-f319-4b48-b806-632b2540df5c",
   "metadata": {},
   "source": [
    "### HENCE THE PREDICTION IS CORRECT"
   ]
  },
  {
   "cell_type": "markdown",
   "id": "e039eed5-9fdc-44c5-9140-b55cf1cb2b79",
   "metadata": {},
   "source": [
    " # END"
   ]
  },
  {
   "cell_type": "code",
   "execution_count": null,
   "id": "3a59a749-d023-4e69-9210-010187c684f4",
   "metadata": {},
   "outputs": [],
   "source": []
  }
 ],
 "metadata": {
  "kernelspec": {
   "display_name": "Python 3 (ipykernel)",
   "language": "python",
   "name": "python3"
  },
  "language_info": {
   "codemirror_mode": {
    "name": "ipython",
    "version": 3
   },
   "file_extension": ".py",
   "mimetype": "text/x-python",
   "name": "python",
   "nbconvert_exporter": "python",
   "pygments_lexer": "ipython3",
   "version": "3.12.4"
  }
 },
 "nbformat": 4,
 "nbformat_minor": 5
}
